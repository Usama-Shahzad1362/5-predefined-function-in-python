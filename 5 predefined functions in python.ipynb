{
 "cells": [
  {
   "cell_type": "code",
   "execution_count": 1,
   "metadata": {},
   "outputs": [
    {
     "name": "stdout",
     "output_type": "stream",
     "text": [
      "3\n",
      "3\n"
     ]
    }
   ],
   "source": [
    "#abs fuction in python it always return positive value\n",
    "num1=-3\n",
    "print(abs(num1))\n",
    "num2=3\n",
    "print(abs(num2))"
   ]
  },
  {
   "cell_type": "code",
   "execution_count": 2,
   "metadata": {},
   "outputs": [
    {
     "name": "stdout",
     "output_type": "stream",
     "text": [
      "6\n",
      "5\n"
     ]
    }
   ],
   "source": [
    "#round function in python its use is to round the number after points\n",
    "num1=5.622\n",
    "print(round(num1))\n",
    "num2=5.22\n",
    "print(round(num2))"
   ]
  },
  {
   "cell_type": "code",
   "execution_count": 3,
   "metadata": {},
   "outputs": [
    {
     "name": "stdout",
     "output_type": "stream",
     "text": [
      "6\n",
      "5\n"
     ]
    }
   ],
   "source": [
    "#ceil and floor function in python it is also used to round the number\n",
    "#ceil convert the number in next digit\n",
    "#floor convert the number in previous digit\n",
    "\n",
    "num1=5.622\n",
    "import math\n",
    "print(math.ceil(num1))\n",
    "print(math.floor(num1))"
   ]
  },
  {
   "cell_type": "code",
   "execution_count": 4,
   "metadata": {},
   "outputs": [
    {
     "name": "stdout",
     "output_type": "stream",
     "text": [
      "12\n",
      "12.0\n",
      "12\n"
     ]
    }
   ],
   "source": [
    "#convert number in int and then float and then string\n",
    "int_num1=12\n",
    "print(int(int_num1))\n",
    "print(float(int_num1))\n",
    "print(str(int_num1))"
   ]
  },
  {
   "cell_type": "code",
   "execution_count": 5,
   "metadata": {},
   "outputs": [
    {
     "name": "stdout",
     "output_type": "stream",
     "text": [
      "enter 1st number 2\n",
      "enter 2nd number 2\n",
      "total sum = 4\n"
     ]
    }
   ],
   "source": [
    "# input function is used to take input from the user\n",
    "num1=int(input(\"enter 1st number \"))\n",
    "num2=int(input(\"enter 2nd number \"))\n",
    "total=num1+num2\n",
    "print(\"total sum =\",total)"
   ]
  }
 ],
 "metadata": {
  "kernelspec": {
   "display_name": "Python 3",
   "language": "python",
   "name": "python3"
  },
  "language_info": {
   "codemirror_mode": {
    "name": "ipython",
    "version": 3
   },
   "file_extension": ".py",
   "mimetype": "text/x-python",
   "name": "python",
   "nbconvert_exporter": "python",
   "pygments_lexer": "ipython3",
   "version": "3.7.3"
  }
 },
 "nbformat": 4,
 "nbformat_minor": 2
}
